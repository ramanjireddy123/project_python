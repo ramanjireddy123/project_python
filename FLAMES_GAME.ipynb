{
 "cells": [
  {
   "cell_type": "markdown",
   "id": "45dbe737-83cd-4e67-8b6e-da1e1e8b1927",
   "metadata": {},
   "source": [
    "# FLAMES GAME"
   ]
  },
  {
   "cell_type": "code",
   "execution_count": 1,
   "id": "e03c56d5-75ca-4d0f-99e5-004a43cd7102",
   "metadata": {},
   "outputs": [],
   "source": [
    "def remove_match_char(list1, list2):\n",
    "    for i in range(len(list1)) :\n",
    "        for j in range(len(list2)) :\n",
    "            if list1[i] == list2[j] :\n",
    "                c = list1[i]\n",
    "                list1.remove(c)\n",
    "                list2.remove(c)\n",
    "                list3 = list1 + [\"*\"] + list2\n",
    "                return [list3, True]\n",
    "    list3 = list1 + [\"*\"] + list2\n",
    "    return [list3, False]"
   ]
  },
  {
   "cell_type": "code",
   "execution_count": 3,
   "id": "bbc4d757-15aa-4f30-9116-8837e885ba87",
   "metadata": {},
   "outputs": [
    {
     "name": "stdin",
     "output_type": "stream",
     "text": [
      "Player 1 name :  reddy\n",
      "Player 2 name :  reddy\n"
     ]
    },
    {
     "name": "stdout",
     "output_type": "stream",
     "text": [
      "Relationship status : Friends\n"
     ]
    }
   ],
   "source": [
    "if __name__ == \"__main__\" :\n",
    "    p1 = input(\"Player 1 name : \")\n",
    "    \n",
    "    p1 = p1.lower()\n",
    "    \n",
    "    p1.replace(\" \", \"\")\n",
    "    \n",
    "    p1_list = list(p1)\n",
    "    \n",
    "    p2 = input(\"Player 2 name : \")\n",
    "    \n",
    "    p2 = p2.lower()\n",
    "    \n",
    "    p2.replace(\" \", \"\")\n",
    "    \n",
    "    p2_list = list(p2)\n",
    "    \n",
    "    proceed = True\n",
    "    \n",
    "    while proceed :\n",
    "        ret_list = remove_match_char(p1_list, p2_list)\n",
    "        \n",
    "        con_list = ret_list[0]\n",
    "        \n",
    "        proceed = ret_list[1]\n",
    "\n",
    "        star_index = con_list.index(\"*\")\n",
    "\n",
    "        p1_list = con_list[ : star_index]\n",
    "\n",
    "        p2_list = con_list[star_index + 1 : ]\n",
    "\n",
    "    count = len(p1_list) + len(p2_list)\n",
    "\n",
    "    result = [\"Friends\", \"Love\", \"Affection\", \"Marriage\", \"Enemy\", \"Siblings\"]\n",
    "    \n",
    "    while len(result) > 1 :\n",
    "        \n",
    "        split_index = (count % len(result) - 1)\n",
    "        \n",
    "        if split_index >= 0 :\n",
    "            \n",
    "            right = result[split_index + 1 : ]\n",
    "            \n",
    "            left = result[ : split_index]\n",
    "            \n",
    "            result = right + left\n",
    "            \n",
    "        else :\n",
    "            result = result[ : len(result) - 1]\n",
    "\n",
    "    print(\"Relationship status :\", result[0])\n",
    "    "
   ]
  },
  {
   "cell_type": "code",
   "execution_count": null,
   "id": "1aee8d0f-a69c-437d-9042-4809f021b6bc",
   "metadata": {
    "jupyter": {
     "source_hidden": true
    },
    "tags": []
   },
   "outputs": [],
   "source": []
  }
 ],
 "metadata": {
  "kernelspec": {
   "display_name": "Python 3 (ipykernel)",
   "language": "python",
   "name": "python3"
  },
  "language_info": {
   "codemirror_mode": {
    "name": "ipython",
    "version": 3
   },
   "file_extension": ".py",
   "mimetype": "text/x-python",
   "name": "python",
   "nbconvert_exporter": "python",
   "pygments_lexer": "ipython3",
   "version": "3.9.6"
  }
 },
 "nbformat": 4,
 "nbformat_minor": 5
}
